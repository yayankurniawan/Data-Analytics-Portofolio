{
  "nbformat": 4,
  "nbformat_minor": 0,
  "metadata": {
    "colab": {
      "provenance": []
    },
    "kernelspec": {
      "name": "python3",
      "display_name": "Python 3"
    },
    "language_info": {
      "name": "python"
    }
  },
  "cells": [
    {
      "cell_type": "markdown",
      "source": [
        "Struktur Program Python"
      ],
      "metadata": {
        "id": "z_Cw_HWo0l1t"
      }
    },
    {
      "cell_type": "code",
      "execution_count": null,
      "metadata": {
        "colab": {
          "base_uri": "https://localhost:8080/"
        },
        "id": "kLfKeLUTz-AQ",
        "outputId": "1bfd85b8-b660-4adf-8cd7-81e9d7e76300"
      },
      "outputs": [
        {
          "output_type": "stream",
          "name": "stdout",
          "text": [
            "Belajar Python Menyenangkan\n",
            "Halo Dunia\n",
            "Hello World!\n",
            "15\n"
          ]
        }
      ],
      "source": [
        "# Statement\n",
        "print(\"Belajar Python Menyenangkan\")\n",
        "print(\"Halo Dunia\")\n",
        "print(\"Hello World!\")\n",
        "\n",
        "# Variables & Literals\n",
        "bilangan1 = 5\n",
        "bilangan2 = 10\n",
        "kalimat1 = \"Belajar Bahasa Python\"\n",
        "\n",
        "# Operators\n",
        "print(bilangan1 + bilangan2)"
      ]
    },
    {
      "cell_type": "markdown",
      "source": [
        "Tugas Praktek"
      ],
      "metadata": {
        "id": "MvZLD3Ab16HM"
      }
    },
    {
      "cell_type": "code",
      "source": [
        "bilangan1 = 20\n",
        "bilangan2 = 10\n",
        "print(bilangan1 - bilangan2)"
      ],
      "metadata": {
        "colab": {
          "base_uri": "https://localhost:8080/"
        },
        "id": "hL6KB62r16qk",
        "outputId": "85190e91-6d29-4fa0-e7e7-2c842530aadd"
      },
      "execution_count": null,
      "outputs": [
        {
          "output_type": "stream",
          "name": "stdout",
          "text": [
            "10\n"
          ]
        }
      ]
    },
    {
      "cell_type": "markdown",
      "source": [
        "Tugas:\n",
        "\n",
        "1. Aku diminta menghitung harga_setelah_potongan dan harga_final. harga_final diperoleh dengan mengalikan harga_setelah_potongan dengan angka 1.1 karena PPN sebesar 10% (100% + 10% = 110% atau 1.1)\n",
        "2. Aku menggunakan variabel harga_asli dengan nilai 20000 dan variabel potongan dengan nilai 2000.\n"
      ],
      "metadata": {
        "id": "-RmyokvU2EAc"
      }
    },
    {
      "cell_type": "code",
      "source": [
        "harga_asli = 20000\n",
        "potongan = 2000\n",
        "harga_setelah_potongan = harga_asli - potongan\n",
        "harga_final = harga_setelah_potongan * 1.1\n",
        "print(harga_final)"
      ],
      "metadata": {
        "colab": {
          "base_uri": "https://localhost:8080/"
        },
        "id": "CZqoQ6N518-k",
        "outputId": "3e848395-98d5-462d-873c-47a512466d49"
      },
      "execution_count": null,
      "outputs": [
        {
          "output_type": "stream",
          "name": "stdout",
          "text": [
            "19800.0\n"
          ]
        }
      ]
    },
    {
      "cell_type": "markdown",
      "source": [
        "Sequence Type"
      ],
      "metadata": {
        "id": "C60VRMKo32m8"
      }
    },
    {
      "cell_type": "markdown",
      "source": [
        "Tugas:\n",
        "\n",
        "Aku diberikan tugas untuk menerapkan variasi tipe data list dengan mengikuti petunjuk yang diberikan Senja. Berikut petunjuknya:\n",
        "\n",
        "1. Petunjuk 1: Input data 1, 'dua', 3, 4.0, 5 ke dalam contoh_list\n",
        "2. Petunjuk 2: Ambil Elemen pertama dari contoh_list untuk menampilkan output 1 menggunakan print statement\n",
        "3. Petunjuk 3: Ambil Elemen ke empat dari contoh_list untuk menampilkan output 4.0 menggunakan print statement\n",
        "4. Petunjuk 4: Input data 1, 'dua', 3, 4.0, 5 ke dalam contoh_list\n",
        "5. Petunjuk 5: Ubah Elemen keempat dalam contoh_list menjadi 'empat'\n",
        "6. Petunjuk 6: Tampilkan output elemen keempat yang telah diubah tersebut menggunakan print statement"
      ],
      "metadata": {
        "id": "2NWYAFFY33Nc"
      }
    },
    {
      "cell_type": "code",
      "source": [
        "# Petunjuk 1: Input data ke dalam list\n",
        "contoh_list = [1, 'dua', 3, 4.0, 5]\n",
        "\n",
        "# Petunjuk 2: Ambil elemen pertama (indeks 0)\n",
        "print(contoh_list[0])  # Output: 1\n",
        "\n",
        "# Petunjuk 3: Ambil elemen keempat (indeks 3)\n",
        "print(contoh_list[3])  # Output: 4.0\n",
        "\n",
        "# Petunjuk 4: Input ulang data ke dalam list\n",
        "contoh_list = [1, 'dua', 3, 4.0, 5]\n",
        "\n",
        "# Petunjuk 5: Ubah elemen keempat (indeks 3) menjadi 'empat'\n",
        "contoh_list[3] = 'empat'\n",
        "\n",
        "# Petunjuk 6: Tampilkan elemen keempat yang telah diubah\n",
        "print(contoh_list[3])  # Output: 'empat'"
      ],
      "metadata": {
        "colab": {
          "base_uri": "https://localhost:8080/"
        },
        "id": "xcf2G2xi4A9M",
        "outputId": "94e74714-0df0-4365-89cd-631efb24ccb5"
      },
      "execution_count": null,
      "outputs": [
        {
          "output_type": "stream",
          "name": "stdout",
          "text": [
            "1\n",
            "4.0\n",
            "empat\n"
          ]
        }
      ]
    },
    {
      "cell_type": "markdown",
      "source": [
        "Tugas:\n",
        "\n",
        "Sekarang aku diberikan tugas untuk menerapkan variasi tipe data tuple dengan mengikuti petunjuk yang diberikan Senja:\n",
        "\n",
        "1. Petunjuk 1: Input data Januari sampai dengan April ke dalam contoh_tuple\n",
        "2. Petunjuk 2: Ambil Elemen pertama dari contoh_tuple untuk menampilkan output 1 menggunakan print statement\n",
        "3. Petunjuk 3: Input kembali data Januari sampai dengan April ke dalam contoh_tuple\n",
        "4. Petunjuk 4: Ubah Elemen pertama dalam contoh_tuple menjadi 'Desember'"
      ],
      "metadata": {
        "id": "RZ3WJx-v5JPU"
      }
    },
    {
      "cell_type": "code",
      "source": [
        "contoh_tuple = ('Januari', 'Februari', 'Maret', 'April')\n",
        "print(contoh_tuple[0])\n",
        "contoh_tuple = ('Januari', 'Februari', 'Maret', 'April')\n",
        "contoh_tuple[0] = 'Desember'"
      ],
      "metadata": {
        "colab": {
          "base_uri": "https://localhost:8080/",
          "height": 193
        },
        "id": "IqDTlzqk5RGs",
        "outputId": "c0c7b574-5540-4297-fdc0-a085bbe3a300"
      },
      "execution_count": null,
      "outputs": [
        {
          "output_type": "stream",
          "name": "stdout",
          "text": [
            "Januari\n"
          ]
        },
        {
          "output_type": "error",
          "ename": "TypeError",
          "evalue": "'tuple' object does not support item assignment",
          "traceback": [
            "\u001b[0;31m---------------------------------------------------------------------------\u001b[0m",
            "\u001b[0;31mTypeError\u001b[0m                                 Traceback (most recent call last)",
            "\u001b[0;32m/tmp/ipython-input-1333596474.py\u001b[0m in \u001b[0;36m<cell line: 0>\u001b[0;34m()\u001b[0m\n\u001b[1;32m      2\u001b[0m \u001b[0mprint\u001b[0m\u001b[0;34m(\u001b[0m\u001b[0mcontoh_tuple\u001b[0m\u001b[0;34m[\u001b[0m\u001b[0;36m0\u001b[0m\u001b[0;34m]\u001b[0m\u001b[0;34m)\u001b[0m\u001b[0;34m\u001b[0m\u001b[0;34m\u001b[0m\u001b[0m\n\u001b[1;32m      3\u001b[0m \u001b[0mcontoh_tuple\u001b[0m \u001b[0;34m=\u001b[0m \u001b[0;34m(\u001b[0m\u001b[0;34m'Januari'\u001b[0m\u001b[0;34m,\u001b[0m \u001b[0;34m'Februari'\u001b[0m\u001b[0;34m,\u001b[0m \u001b[0;34m'Maret'\u001b[0m\u001b[0;34m,\u001b[0m \u001b[0;34m'April'\u001b[0m\u001b[0;34m)\u001b[0m\u001b[0;34m\u001b[0m\u001b[0;34m\u001b[0m\u001b[0m\n\u001b[0;32m----> 4\u001b[0;31m \u001b[0mcontoh_tuple\u001b[0m\u001b[0;34m[\u001b[0m\u001b[0;36m0\u001b[0m\u001b[0;34m]\u001b[0m \u001b[0;34m=\u001b[0m \u001b[0;34m'Desember'\u001b[0m\u001b[0;34m\u001b[0m\u001b[0;34m\u001b[0m\u001b[0m\n\u001b[0m",
            "\u001b[0;31mTypeError\u001b[0m: 'tuple' object does not support item assignment"
          ]
        }
      ]
    },
    {
      "cell_type": "markdown",
      "source": [
        "Set Type"
      ],
      "metadata": {
        "id": "ggBAUL9G6LZ9"
      }
    },
    {
      "cell_type": "markdown",
      "source": [
        "Tugas:\n",
        "\n",
        "Sekarang aku diberikan tugas untuk menerapkan variasi set dan frozenset oleh Senja:\n",
        "\n",
        "1. Tugas 1:Input data Dewi, Budi, Cici, Linda, Cici kedalam tipe data list dan tampilkan hasilnya\n",
        "2. Tugas 2: Input data Dewi, Budi, Cici, Linda, Cici kedalam tipe data set dan tampilkan hasilnya\n",
        "3. Tugas 3: Input data Dewi, Budi, Cici, Linda, Cici kedalam tipe data frozenset dan tampilkan hasilnya"
      ],
      "metadata": {
        "id": "vtYp3oc869As"
      }
    },
    {
      "cell_type": "code",
      "source": [
        "# Tugas 1: List (memperbolehkan duplikasi dan mempertahankan urutan)\n",
        "contoh_list = ['Dewi', 'Budi', 'Cici', 'Linda', 'Cici']\n",
        "print(contoh_list)\n",
        "\n",
        "# Tugas 2: Set (tidak memperbolehkan duplikasi dan tidak mempertahankan urutan)\n",
        "contoh_set = {'Dewi', 'Budi', 'Cici', 'Linda', 'Cici'}\n",
        "print(contoh_set)\n",
        "\n",
        "# Tugas 3: Frozenset (versi immutable dari set)\n",
        "contoh_frozen_set = frozenset(['Dewi', 'Budi', 'Cici', 'Linda', 'Cici'])\n",
        "print(contoh_frozen_set)\n"
      ],
      "metadata": {
        "colab": {
          "base_uri": "https://localhost:8080/"
        },
        "id": "rlYV9ZJI7D-D",
        "outputId": "c26692db-fdb3-4587-836c-cf0b6e957b28"
      },
      "execution_count": null,
      "outputs": [
        {
          "output_type": "stream",
          "name": "stdout",
          "text": [
            "['Dewi', 'Budi', 'Cici', 'Linda', 'Cici']\n",
            "{'Budi', 'Cici', 'Linda', 'Dewi'}\n",
            "frozenset({'Budi', 'Cici', 'Dewi', 'Linda'})\n"
          ]
        }
      ]
    },
    {
      "cell_type": "markdown",
      "source": [
        "Mapping Type\n",
        "\n",
        "Tugas:\n",
        "\n",
        "Menggunakan tipe data mapping, aku diminta Senja untuk menampilkan nama & pekerjaan John Doe, seorang Programmer."
      ],
      "metadata": {
        "id": "mj9-DPe-7Rn0"
      }
    },
    {
      "cell_type": "code",
      "source": [
        "person = {'nama' : 'John Doe', 'pekerjaan' : 'Programmer'}\n",
        "print(person['nama'])\n",
        "print(person['pekerjaan'])"
      ],
      "metadata": {
        "colab": {
          "base_uri": "https://localhost:8080/"
        },
        "id": "JUleEdIt7Ubc",
        "outputId": "1a852759-3824-44aa-cf64-300c6a791cb8"
      },
      "execution_count": null,
      "outputs": [
        {
          "output_type": "stream",
          "name": "stdout",
          "text": [
            "John Doe\n",
            "Programmer\n"
          ]
        }
      ]
    },
    {
      "cell_type": "markdown",
      "source": [
        "Tugas Praktek\n",
        "\n",
        "Ternyata seru juga! Aku jadi berniat mengembangkan program kalkulator potongan harga ini untuk beberapa barang sekaligus agar lebih fungsional. Kalau begitu, aku perlu rapikan dulu informasi setiap barang di tabel ini.\n",
        "\n",
        "“Lalu, aku tinggal merepresentasikan semuanya ke tipe data dictionary, dengan begitu akan lebih mudah mengolahnya,” gumamku.\n",
        "Aku pun mulai mendeklarasikan variabel sepatu, baju, dan celana untuk menampung informasi barang ke dalam live code editor.\n",
        "\n",
        "![image.png](data:image/png;base64,iVBORw0KGgoAAAANSUhEUgAAAYwAAACCCAYAAABVRP+OAAAAAXNSR0IArs4c6QAAAARnQU1BAACxjwv8YQUAAAAJcEhZcwAADsMAAA7DAcdvqGQAACyNSURBVHhe7Z0LVFRXlvf/CBbqdNlOcJKeMk6sjiuwnGg6g+gICQuQsdBuJK4ucOIj05RJGvBrH/0F4hfAFzpR7FHsNajTrdgRTE/UaS0nHbUjOLHBiSnW2BKTRdlqmaSpnjhVtqEmapXg/fa99xQUxevy8AHsX9Zd3HPOrnPPPXvfs88+91wTIhFgGIZhmG4YJv4yDMMwTJeww2AYhmE00WZJat26deKMYRiGYVTWrFmj/G3nMJ6ff1KkGAb47TvJbBNDHLaBoY2sf7/D4CUphmEYRhPsMBiGYRhNsMNgGKZfabop4dZtkWAGFewwGIbpN5pqfVj96m2s+aEXp78UmV3gcTTjwlk6LkhoEnnMw0v7l95/fQyb9jQr6agfjMALzyinhIQzW8gInMCj3w2HJTlE5D9E/E8Tyv6xCddE0k/YY6GIXxSGaY8/hG1+yJFfeP1l07s4VEsJQxhezQ3DI2oRrp/04We/vtsunxlctLGBAPRPhGJyYhhinwlBmMjznPah6Gfy+BGC+LUj8L2Jan5n1O+6hbJqOnliOFZtZBt6GOn6pbdPwvX/UY8zP/OhPiC0bLqh5nu8IuNhg8Yuj2h74HHtQhMO5fs0zXiY9jR5RF/eEBl+vJ3kM4OOFhsIOD6rbcK7W27jzS3NuKbOMaGP12HVGzpYNoZ36yyYgUfoWkKc44MPPsATEb/H+/8pgg4aEC55hiHub4YpnuWzqiZc/AoYPTkMf/uUPFsnozl5B/tL7uDI4SbUN4RglDzL33EH1SckfCslFI9cuINNb8rpu/B+U8LZPT782tqED38nYfSkUDwq3cUZytu/vwnV/9GMG2NC8ZShNRLw1N7BWz+9g3+j8nP1Eh4JvYvdW9X6hkWHYvyfCUGZr+/i7G/uwkOnz/54JH68dDieezYEvz9FeRRIfR3Ru3YPiwyB4y0vKv83FM9+m35/vRnvbqc277mD//jwLnx/EYILm304coL6J0yWgRKN7T9E93QtBGN/fwe/+HkTTlP5leZheIraMFxpMNFtXQ82Kvr8k2/jz25fxLnPKUG6eW7mMIxUi3Dr982ovkC2Epjfk75xh+AZXzN2b7mLR+Q+16IXTdd4sH022GhjA4+HYembOqTEy7q4i0tXgNtfNqP+LtnAX1O/03OzfTfp7kOp5fm8ZW/CL3/iw6/KSV+nmvH7r0MwKXIYhtOg4iKn08a2vmzCzwp9eJ90+eHvQzB5+jCEU7Fcx6F/9uHQW3eorBmXvwrB+InD8GfKg6Sufmh63pgeI+s/ISFBOe/2HYbn1B28axeJIK792ofSXzTjs+uS8qLrs2of9u1vbpmBKGuSLRFLM06U3sG5S2panvXvK7yNn+R6caT6rirzh7s4XeLFL/9LqR63/suHkpImXPoD1XVH/U1ZaZOoj/IoouiOkY+FQC/O/3ysOpD0tN1H1nrxbq2IrG4245dk0KdpoLx1h9pIba7c4sMZ8Vt/9OWPxq7/xoeyI3dxTZRf+KUXPzsmHLLGugYMveibItLvZ3Qu97kmvQy2PhtohNLz9E06Hh+G2B+MaFmavv5rchJylBGwQqE8n5+RAym6gwv0DN8ZFYI7pNtLR3z4yf4OHt5mCaf/+Q4uyb/3DcP3loQqz67nP0me6pDHDlnncrRz6Rjl5fpQf1P9qabnjekzXTiMEDw7Qy4m700z/M9EyNnC7WYcPyCUbgzDq9tGUCg6HFHfVLM64pFkCldLR+C1V1VDwFfkBBAK86YRKNykw9PKbyWcO95MUQI5Dxos5GgB32yVmWaQM7rn45/fxqaVt7FmKRkVpR+dHY706XTSi3ZjWAgmzgjF048DDe+R4VKUJffP069Sm+h+XkrsYkY7SrR9WzhmGtWsht80oUH+29O6HjT08G9adAt54tj0y7YPfY/vh2xqpDEU0xLJHjTqZcD12SBn4rNiCKHB/ppLPQ3k+gWaDMonjw/Hip0j8I+FYXiUIsLhF5pxSZFo5dJ+mpg56CSUnEW+DlGj6LyZJgR71XFg5KThWE76XvVGGMaFUsZXNJl7L8jxdPG8MX2nS4cxbp4Opifo9CuKBmhGQM69lT/ehVNxIiGYaRmOiWQEj0wKw/dMnT28NCOZTWEszU4ejQ/DtL9Qc8fNGa68jNY/HooU/2+/ptnIbQlfincOTy8iRyFkzBmypfQAYU/XrzTjmjwb6XG7QxCfPwKvLtVh5jMhuEYzJYWpw7EgXp1tPf2D4XhWzW3P39CAKLf9L4Zh5hzRdpr5yA9Aj+t6yOnx/TxDE4giHcw0kxynUS+Drc8GPCNCWpYoO+KRp4epy4h/uIOfvHobpceA+GXheK2YdKxICKj80G9k3dJEdbkO8f6J4efNIooIQeyL5ChI34+Q45g5TSnF9fPCIfnp4nlj+k7XS1IUfs5cOhzj6NRDod6JP6jZCj7gljgNkxcZBWH0m+4hI5NnD0G0+a2XggFxOjxwAbLrFrcw+RWaidAsdV0ZzTQeo5BVXkeVZyM9bncIRvvXtCj6uSNCYHlR1L8zhIIkTQRer691PRDknSwVI1EsjlUvBiqjF/dD/doy2GjSywDss0FOw8fNqt5IT4+OVbLaQjbz2j/RZGvqMFK3pLwoP1R4G2/uaW67jda/gkH1jPtWgM47tQtxEhRgBNL2eWP6g+6HX0MYzHOFAv1KlfnWMMWRyA/xmaNkNHKZ5y7OnOlCgz2BZhKPCqdyztqEa3J4c0fCR6d7X/91F81g+tTuEDzm35r7URMqhQO9fopmQeppD+jPuh4G+ng/mvQy2Pps4CK/Y2o46UPZv6sRn35mGKI6cNwNp3w48m4zPE8PR+HPRmLdj0KVSYKHdNZmSeoJiiafI90238W7G1vfTeCJYXhSqVeC7Td3hV0045x4zzkyUkQwzH1B03x93PdphkCz9DZ8MxTxYu3YU+3Dmn+4hbxsL05/pmT1A8MQP080z0HhbCbVn3kbh2rFkkQ3nNsq1tr/wYtKsbQ1kYyrr+1+wiTWT8mwT6xSryF/t+KfBfWE/qzrYaBP96NRL4OtzwYc4j3WG6/exvZfkCOQB3CaVL5o7ngoeYwmfR+Rc/joF15s2uTDwcNCVwGbUVTUpcVp8jurr5pR9iZNEuW6R4RiZqpqF9dPeoVd+HBOdiihwzDTpGkIY/oJbb1NijH9n/Yf1UT9IBzmqa0f7YQ9TrOE2apy+4NHZuvw6uxhGKnMMOSMULxg9id6wCgyxhfDsVgMSH1q92NhePV1GrT8S2oUQkeRoT8tkj2iP+t6GOjj/WjSy2DrswHMyEeG4VnS2bo3h2OiXx9BhE3XKZtcZH1dv9CMCxQVyh/Smv+vutTdBnIO5nyRT5PEf/k5ORdyGuPM4Vj6YigeCViaHmkMw0vF4YgPnsgy95T++efNSanydreRI0T6HnCLZhQdvffoE31stxyWy86oZS29p9wW20CHhZBT9NfVjF8uohkUZY9bOALL+9EB94be/tPWvembW1+pW2fDwtV7lvVy/dc0M5V3Y4WGwvKWDlFKiUqf+5/RRG9toB1k703DSV+9mPO1cJv0TnbBOr9/dP2ld28gA7iXzkKm352FTB/bHdbXwerTOyhaehtF2bfx9hkJjTRg1ssfKCqFNHOe9GCdRV/oed9IsBVTX1B/rNl4B5+5JFx3NOFd/7bJqaFtd9UQfe5/5v4yoo/OQoadxQOFFwAfJH8zHC9EyicSLshrvDRYlh1TB0j9c8MRL29pHjKEIDYjDHp5QCFHUbbqNjYV3sEF+ZsLeV/+90N5oGCYBww7jAcKDZJvjMDyV8Mw8fEQPCJ/e/D4MMS/OgKvZam7SYYSYc8Mx/8r1uF7zw1T+4KOJ8hxvrotvHVfPsMwDwx2GA8aed95PA2Km9TvRlZtCsf34rv+GGowo/zLwlnhal/QsTSLnCnvm2SYhwJ2GAzDMIwm2GEwDMMwmmCHwTAMw2iCHQbDMAyjCXYYDMMwjCbYYTAMwzCaYIfBMAzDaIIdBsMwDKMJdhgMwzCMJthhMAzDMJpo98+bMwzDMEwg/n/evJ3D8BcwjAzbBMM2MLQJ1D8vSTEMwzCaYIfBMAzDaIIdBsMwDKMJdhhBOE+UoOSwHT469121oeqsQzkfutyFx+2GWz48rT3huyHygo4AEYGv5feemyKrHRpkfB5xDQ98zSIvmJsBMiKL6V98HjcctTY4Ou3j+6fLFhtsb3TMPaJjh3GjDgdWWzB37lw60pG9tQrOB6UTdw3KNpahxi3SvcS2le5laQUcwQbqPIDlc5fjgFNO+FB/qgIVh21wUcp1ugR522uU86GLC5tNJpjkY4tN5DlxIEfkBR2bPxQiMteqUDAnFommVJjNJiTGx8LytkMUCjTIuE8WwPR8IkypZpjnJCL2eQsqropCBR/sey2IjScZsxmpJpKZU4Qajyhm+k6zA9YfmxCbbEbW+iJkmamPzcWwBfbx/dLlTTvKXo6ltpjoOqkwJcbCtLEGrO77gLxLys/atWslqem8tHlWtGTecESqb3BJDZ+8I+XPjpaif3hEcgm5+8rn5dKC6AVS+eci3UuqC+keoqOlBWVXRI6gi/ob3logRb9YLjWI9FBEsQlC6b/CauWcekYqfzFayv9AJDvEK1W+Hi0lvFEpNTapOY1V+dKsNn2tQebrSil3WoKU/36jmm5qlCoLZ7XVi71USqXf7LnkVdPeK9KexVQvtVfkMH1AtgHXr7Kk6Fn5UrVQg9R0RSqX+7j4vMi4f7qs35lKv9kjXfGLXNojLZDr/YC1fS/wjwEy7SOMs1YccKcge1UaIg0RMEzKwIaf5CFtvBtXbggZmgU4z1SgaGm6EoVYcneg6ovWEMR9pgxFu2soVKRZydZspMuRSmYBKs4GhwlqPQWZ/kjGCgeFvDW7i2C9SMVydFF6jOazThwrLUKRP9LoJOpQrnvYLlId8FQksKsAZW1mNG2xH6brdFKHp5bueeMOHL/qv1dq/8kdyFPaT/2wugI1Af0wpLlZheMnjVj8ShL0oWqWPnE1VibaceyUEs5pkvH99jiqJizGkmS9kkaoHkmrViLp4jGyOTXL/v5xOE1LYHlSp2bojLCsskB/4hhsnS15MD0jMh3F21YiTqgBoUYkJUfC4xHz+vumSzsq33Mi5RULjH6RJy1Y/ZKeru+PgJl7RXuHMYacBBy4KhSoQE6jMN+CmDFq0rEvE3NfsyI8MQ/btxUi40k7Ns9LRdEZdbD0XqqE9egOLJufhapRachetgI50z0oX2bCwn2tIapSz8pyeKbnYMWybKSNqkLWfHIs71th+28SGGnA5GeN0NN/xmfjEDd9Mgzy/+z6pgOVhyvhCFojVa57rosFpIk52LIc2E0De7ulKYHrnLXjOq5WIGtpCerHz0bKBNlSPahZnYq5W2ph+O4Kav8KpIyyIpdC5KLTQyQ4Dly6nJ+NkpNOcqGCa06yokhEThBpBR2MEwywXxI2oEGmwUl/IyNhVFKCUUZMMNhRL6ppcDpJJEpN+JnwbUQ1O+AQvonpGxGTkpA0KUKkaPB3V2HHfjuS4mPUjPuly+YGOJ2RiJqoFvkxTqTf0HVY3feW9g5j0mK8Ps+FHfMTkb60CBUn7XAHTprdVhT/1APL7oPIM8fA+GQMUrK2Y++ysbBu2U3+X0CKN+YewvasFJqJJCkyhzalwFm6E1XyQK/UQzOFTUEyuRGov6xWIRtTTGyU4jCiYslgk+l6o0RZLzEs2IIc7EDBfmGhGvDeqELBD0uApQex/yVh7h/vwfr3xiLnX8qwwiy3LQkZq6g8i/phW3lrPwxijm8qQI1hCbbv3YUtCw2oyZ+L5YdF2Pf5FRpA2qPX+6eohAYZp6NDCYz+hjiV48+OREbpabhi+hvnoeVIjJ2KWNNOIPcoipNFL98vXdK40pGIbiRr+37QwUtvPeLyT+DMO8VIn+xFza4smJ430UAg1PSJDTaMhc9ZhaqTrUd92DhEfOFsfUFsSMfixIDBgdDHJyGumeRrKSHXE5qE2cEyibORJELae4MBi9bnKEtTbV+2dcL/HkPB/DzYk3dil99ZEM5zNrgnydGGyBAYk2cj8osa2Ab1VCccxqQ0WDbtJWcfB2OEAZFzC1GWHwfbQXkJkRmsGOZswKF/P4r9q2Ng35g5dKJpRqHjXVKEbkIMMrI2YOehUzi1MQZ1G4th9b8zGOWF82wNagIPhx7PzYshVyIYOaL9DC80XJwIRoWTewpGj/A+RhHdMmERNmQBO7pYmmrB44LrRgQip8uRThA08wm6o1YG9dp5BOJeLkROfOsShYx+DPXQxXp1BmiMQiT98Qb1g+tLcif+TtMgY5xIEs1eNdGCC84/kkiYfG4gGcAXLON2QTHXezr5GIKQzUcoE4Q8lK2MgnW3VZ0g3C9djjfCCF+77bjy9loodTD3kvYO46IVRRsPwB6gEH0iRQagkFO2jG8ZYLg5FnHLClGY33q8vjAFcc9HkcoFl6thuybO/Xx6HnVkVlHyRF2ux1ONavnldiAXKa+7SQsZ7Wh40BgkV2/XvhBkXLhBLE3Vi5xO+MvF2LIlBrbcLOz4uPWCYw3jALrelSDD9XxaB3soGXVLRwxG7Ch7aS6Kz4ikwHfLBzz5bdUG6MGOCq1B7TmlSOBE3TkPYiaJNWoNMgZ5bfpMbduX11/U4bwnBlPkEYowRkXCUUMRn5pUkSNY/TOYMqj1cL/wwpo1Fel72y4GKctNTSJx33RJ15nkQHVtGwnUU8Svnzyldfxh7gntHcYYUvPRYqzfZ1e9eLMP9n17cDxiJpImUfqp+VgytQY78smpiJfOvi+sKPhhNvZc1rXOwvUO7MkpRo14AeK7SjKvlcFjWoK08ZSh1ONE2RtFqBK7jnxXq1BUaIU3cCovnIPry4AXKRHPIUX+7aYy0QYf3KeLUXJCKdUGDeqL1r8MHD7e7fuGsfEbsGspUPZyVssyli5xCSxjDqAg3ypevlMbandg+boqRC7PQdygntlGIiVZjwPr8mC9rH5Ypeh3K917Wop4qRmHNLMOB/JlGfkDKydspbkouZyEdJM/MtEgMz0NGTrRz/JHWk4b2V4J7MnpmC1EDMkZiPm4GMtKbXDKMpetyNt4HIb5aZiiijB9IhxJ85Lg2FWAHTRQK/p2kx72HkfEs/5B+n7p0oDZ82JQt2UZtcWpRBaOo3lY/54B6Wms7XuO2F6r4N9v21hXLuW+MEP5bkE+ZryQKx1xKEUq3ivSO6+lSjNEefS0BGnBP30k+bdoq98v7JHO12yTFiQImegZUuprR6QrYo+2QnA9CQukbbbzQXv8vdL5f14gJUyTZQL2dP+pWtqW0drGWSvLpSPb6bot3wq0pe13BK1cKaPfBNQbKNf2O4xGpR3RMzKlcv8e8UZq68pZLW2InpEq5b51vqUfBgMdf4chQ/3xVq6UOqOLe29ySZVvZkoJQibh+7lSeV1Q72iR+bJS2vyDBNVOyNbMr5VL54NEFJv9foJoS4KU+Wal5Aq0NabXqDbgla4czJXMXT3P902Xqu352zJjZqa0ueqBfCU2JAj8DqNDh6GZJq/U+Kf2H8sEf/DmbWyUvF09vHI9jb386MbbKPX2p/1GX9r/kNNjm2AGHWwDQ5tA/bdfkuoJoTrox3S/nU2n10PX1RKNXI++l9vidHr09qf9Rl/azzAMM0Dom8NgGIZhhgz3xGGET5yJtCRj51tOGYZhmAHHPXEYEbEWFL4cB/9eGIZhGGbgw0tSDMMwjCbYYTAMwzCaYIfBMAzDaIIdBsMwDKMJdhgMwzCMJthhMAzDMJpgh8EwDMNogh0GwzAMowl2GAzDMIwm2GEwDMMwmgiR/8lacY5169aJM4ZhGIZRWbNmjfK3ncPwFzCMDNsEwzYwtAnUPy9JMQzDMJpgh8EwDMNogh0GwzAMo4l75zBu2mHdWoLjX4j0A8R5ogQlh+3wyYmbDthO2uC4qRQF4Yb9ZBXs10RSA76rNlSddah1D3ZueuB2u5XD09kN+/wyHviaRV4wLfWQjMgKxndDvY678wvB429Lh7pk7glabECDfvvHBpj7TXuH4TyA5XPnYm7LkY7s/B2o+qKHSvtDJfa8XYEqe2+VbUMJXb/krEi24MSBZR3ld4YP9acqUHHYBpecdNegZFUJatxKYRD1KF+Vh/J6kdSA63QJ8rbXqHUPWjyo22VBbLwJ5sxMZC42I/F5EwpOtO1E98kCmJ5PhCnVDPOcRMQ+b0HFVVGo4IN9r1wPyZjNSDWRzJwi1HhEsQxNNMpejkVsMl3LnApTYixMG2uoBQFcq0LBnFgkmlJJxoTE+FhY3naIQubeoMUGNOi3v2yAeTDIu6T8rF27VpI+L5cWRJul0nMuyeVySQ2fVEvvbDBL0dMWSOWfC8H7QrWUHx0t5X8gki00SOUvdpSvEeX+OruXzq7ZOQ1vLZCiXyynVg1OFJuo2ybNoj7bc8krciWp8f18KWFarlT5tcj4ulLKnZYg5b/fqKabGqXKwllt+8ZeKqUG1uO9Iu1ZHC0lFFZL/prrd6bSb/ZIV/wil/ZIC+R6P/BLeKXK1+k3b1RKjU1qTmNVvtK++2ufQwfNNqBBv/1jA8z9RNG/oJMlKR1GR0Qggg7DpDhk5BcjZ4Idx045RTnNE76oQcVqixKFpC8tgfUyhZhnylB02C4k7LBuLGuZydsPFwWU+Wkr0xuUa+6ugePjAyhamq60x7L6AOpuCAGi42sLPDZUbCzCjhOdLCv5nKjalQeLEm1ZULCvBs4OBF1dXH/A8ycX3E/NRsqTOpEB6JNnI665AU6hO99vj6NqwmIsSdarGaF6JK1aiaSLxyg6VbPs7x+H07QEFn89OiMsqyzQnzgGm7J8ZUfle06kvGKB0S/ypAWrX9Lj+EmbmnGzis6NWPxKEvShapY+cTVWJra1T6af0WAD3eu3n2yAeWBoe4fR7EHjLWCcYayavlqBTPNylP/vVOQsW4Hs7+pQ9SMzDabHYD3nX5xxwXa4suVdgeucNaDMT1uZ3uC9VAnr/vXI2mBH5MI8FK5ahCh7CSzzi1EnjLTjaxPNDlQszUaJ3YjZyUZyk0F4alCQOhebzxqQQve5YlkKRv86F3NfCAqh/1iO3C6uP+AxRiHyMg38ActLntP0gOufQaRBTTc4HUBkJIxqUmWUERMMdtSL1aIGp5NEotSEnwnfRhTpwSGP9fLg44xE1ES1yI9xIv3mkgOKO7jmhAORiJygFAl0ME4wwE4yzD1Ckw10o1+iX2yAeWB04jCcOFZKs3KaectH3oLlqEnYicJkeUh1w7qpBM7kYhzamoOU5CQkzcnB9ndeR4T9AT2wnijk7C5ERmwMYmIzkLd3A5JuHMCBGlHeEeQEq9ZloQQrcHDvIhjFbDWQup+vx/GIHOzavQIZ8n0mU91v70fOGCs27w+IWHpz/YHE+EXYtSUG1sxEmDKzkT2f/m70IGdvHmJEvzkdHelej9HfEKdkU7JPaccofaujpsGkIxHdyABX/vmVDmX0ehHZMPeGbm1Ag377ywaYB4amCEP353q4LtrhUmbM9bDVAknfTaLhIAB9Es3Sxfn95ikaqAMbMyoKU54EHFc7m494cGy1GXmfzsTO0o6dhWzcdbVuRH4vpW15qBEpKZFwnrGRhKDH1x9gUKRVsskKmLLx+lILLK9kI8NQj80bKuAYLFEU0zVsAwzRicMwYPbSQhTmq8eGXfvxur4Ey3/un1XrET5KnAag1w2UWZ4Hri/diJgUh6humjx6ZLg4C6JJ/B0C2PdthvWvX8f+VRlImkrOkSKtFbu3IONaCYqPqgvYxomRFLV5lfNWXHD+EQgPk88NJAP4gmXcLopZCdkpjzfCCF+77bjy1koodRDy0gj98QbJuL4k59yJqpi+070NaNBvf9kA88DQ9g6DHIS8Rux0yu8BxsIw3oPqD9u/wK4+0/nGN2XJ4FbQnuurdvpVZxgRNamDWfrNOtRd1GP0aJHuFQYs/sl2xJxdjqzSuk6269F9/hXFU/YrIu3Hg7qPqdUTjVTL0EAejA0Tgt7xhI7F2G8AjR714TfIa8xnaltebip8UYfznhhMkUd4whgVCUeNTR0c/HxiU9bBpyidKevcgWqK7AKpP2eDfvIUtb9pQIkKrUHtOaVIQNHgOQ9iJgWtjTP9hhYb6F6//WQDzANDg8PwwXPZij1HnYh5Vn4gIzH/pRg49xag6KRDnQncdKBqYwGsNzufrk/5u9mIOLUN60+6Vadx046KTeUdrleqUJQzLwb2vUUoI+NRf+OAdf02VI1PR9pkRaj3jInDhn9ZAeyzIGtfh6umSHrJAv2hAuQdFffpc8O2aznWn47EilfiVLEhQEx8EpxHy1EVsPPLd/k4jl2MIJsQj/D0NGToDqAg3wqH/LGV04Yd+SWwJ6djdoQqYqBZaczHxVhWaoNTliG7ytt4HIb5aZiiSig6r9uyDDtqncqs0nE0D+vfMyA9TZUA4pBm1uFAfh6sl+UPu5ywleai5HIS0k3iQky/o8UGutdvf9kA86DoxGHYUTJvKqZOlY9YJL5cASwsQ/E89YGMmLcdB3ONsK1OR+x0kkm0YM/IPGxZ2IX//84K7FoVBVu+CbFyvckFcM7PRooo7oiIecUoy9TjyDLxm/iF2ONJw859OYjs8L1DD5mwCLt2W4DShbCQ02i3W3ZSDvbvXQzvLnGfsSYsPzEWObt3YdF4ITME0CUXYqfJjoJksgV5e7H8Ud6CdzA2fxdW+B136BTklRdj5pclWGgywTQvD6ceW4Gy/KTWWemjaSjevQLjTuVhriyzuASuxGLsfUWEIISi86XjcCp3Lkwks/CnLszcshc5TwkBYsqP30Zxogsli6kO01zknRqHFbsLkdTBMinTP2iyAQ367S8bYB4Q4nsMhcAPNLTi/VNj60c5bZA/guv4Yypv4wD8AOfrRmkgNruvtLEJ6gP5Y075GIp9MVRhGxjaaPhwTzu6MYHb5rSh0w/ALXKj9BiIze5XqA/kjznlY8j3xVCFbWBI02eH0RHyP8h3vLQCNRgNPS8TMAzDDAruicPwOD+G7UYksncXI43fQzIMwwwK7onDiIi1oDB/BTK+M1C+y2AYhmG64544DIZhGGbwwQ6DYRiG0QQ7DIZhGEYT7DAYhmEYTbDDYBiGYTTBDoNhGIbRBDsMhmEYRhPsMBiGYRhNsMNgGIZhNMEOg2EYhtFEiPxP1opzrFu3TpwxDMMwjMqaNWuUv+0chr+AYWTYJhi2gaFNoP55SYphGIbRBDsMhmEYRhPsMBiGYRhN3HOH4f60ClWfukVqcOP7XQWKdtVgsN6tz+OG203HDZ/ICcLnUcvdHviaRV4wWmRuBsiIrGB8N0RbPJ1KwKPU4Ybnpshi+k4z9etlG6pqHZ33K+t40NK5w/A5UbU1G+lz52KufMzPRslROzydGUAn1P9rHvL+tV6kHiy2rXQfW20i1f84PjwA694qPBx32480u3E834TYZDMWZGbCPCcWpmVWOAJswX2yAKbnE2FKNVN5ImKft6DiqigUdC/jg32vBbHxJGM2I9VEMnOKUOMRxTI37Sh7OZbaYoLZnApTIrVlYw0CRXCtCgXUxkRTKsmYkBgfC8vbDlHI9JqrFbA8H4u5PypCyXoL9b0JRafb9DzreLAj75Lys3btWvXEUS5lzoiWZq0slSo/aZBcrivSRwe3SZmzoqUZS8qlK02qmBaqC6Ol6MJqkXqwPExtGSjINuH6VZYUPStfqm4Umd7z0rYXoqWsX7nU9NeVUu60BCn/fSHQ1ChVFs6Sol8slxrUHG0y9lIpNXqBtOeSV017r0h7FkdLCaQzkSPV70yl3+yRrvhFLu2RFsj1fuCX8EqVr9Nv3qiUGoWdNlblS7Oo3vLP1TTTM9RxoV4qfSFAf4TcrwkJm6WP/OMB63hQ0uIXiPYRRrMdO1aWwPX3Zfj3rTlImmRARIQRMeYVKDtUjKTLJVi+yy6EiRt2WHflwSKikKJDdV1HIc0e2I+WIHu+HLlYULDPBjdd07qxDDXKWo58XgTrp25UBdRbctIZFLr64DxTgYJMuZ50ZG+lGa/HjZrd9NuLQqQH+L6oQcVGEVFl5mFHm+uJNlG97rPB1xQihPtMGYp2ByxJ3ajDgdUWJUJLX1qEA79rOxsbKNSfs8H490sQ5/8/7uqmIGYyRWzn1FjK99vjqJqwGEuShUCoHkmrViLp4jFUfaFmaZGxv38cTtMSWJ7UqRk6IyyrLNCfOAabYlN2VL7nRMorFhj9Ik9asPolPY6fFJHjzSo6N2LxK0nQh6pZ+sTVWJlox7FTTjWD6TmfVuJ4czoW+/VHyP169FA2nhFp1vHgp73DqClHmTMJK16eAqGvVvRJ2HCqFkeXRqppTw0K5i/EjosTsGjTdmxZngj8qwWJmRXoWG0e1KwzY+GmGhjTV2DFskWY4iyGeWkJrIcr4VDWIV2wHbaS08qCFUnIXl2InEQdjuXPxfLDrW8HHPsyMXdlOTzTc6iebKSNqkLW/AJUvG+F7b+FkFYo1M4058Iamoi8bdtRmD4B9i1zkUphsOo01DYd2LAQ5q1OTFkotz0dxrObkW4uaAmnvZcqYa1ywCsnmutQPN+Cg+EpKNy0BdmTXdjzstxXiuiAIm5NLQ5mGkVKxgfPLcDw2Fgl1eB0AJGRCJTAKCMmGOyoF6sE2mScJBKlJvxM+Daimh1wyAbV3ACnMxJRE9UiP8aJ9JtLDtXmrjnhQCQiJyhFAh2MEwywkwzTO9z2j+H8zjMwyhOrrQXIyy1A0a5qePR66MSgzToe/LRzGM6rstKnIGqUyOiCul0FOD5lAw4pkYgRkbEZKNy3HSlflFBE0MGLqt/tRMF7Y5Hz9kHkmZOQlJyEjFUHUTa9EXVCxE/4dwuxPSsFMVNjkJK1HT/NNMB28JhqMG4rin9Ks5BNhxQZuR5Z5lBuBOovKz/vAW5YN5XA89JeHFyVgZgnKZqak4Ptu1dg7OHN2B0wwNubZqLs7Txk0PWSkjOQ9/Z+5EQcx+b9ARGXH2cdzruNmL2Q6pwUiaSs1VidFYMRrgH4SlwMCC2Qgy0/ZUDK36kTB6ejo4dUj9HfEKdE9zJOkhGngYyiAUmc0khCA0V7dCMDpjafX+lQRk8DG9N7vJ5GGrB3IGtZBVx/Rc+baQrCTxVg7gslqBMrCqzjwU/HL71JgeHitHOcqDvngUHXCNvJKlT5jzMejCXP3+B0CblWnHXn4Zk0GyltZgY0ezDNpvlCW6Z8Z4o4U4mcROmL9aqhfGKDLTQJsxPbGog+cTaSgge3bqmHrRYYSzOblnuQD/IB4yLIwAOilaR/WARjYP2hRiT+nRHO0zbVkQUynto3yYEdOdkoOWSDw6NH3MuFsMRGCIEBis+BstU74Jq/ATlPiTxmaHB5HDL27cQKZbInT5i2I+NWBSo6mhwyg5J2DmPsY+NoKm1Hg0h3i9uOmrM1AYcNnolpmDmxE5fTkTMKp1mIONXMqHCauwRDdWuIjNqjg5dC7bb34YA+Pg0x3xIihE7XbpEO4aHt81QMWLT3DA4WxMFzqhgWUyxi55fANjBfY6jIzuLldLwzphC7ftzq0I0Tyd03KwtxAbjg/CP1T5ia6l7GQDJ0iWAZt0t9JyQ76vFGGOFrt1VT3lYJcR0Yo5TJhzdIxvUlufTuZ0FMJxio7/HkFEwJfOhCYzA1liaHX6qTQ9bx4Kedw9A9n4YUHEDFiQ5GtmY7yjLnIn2LvLY/Foa/orxJaSjMLww4cpAxPQ6Tx7cfzscayBmdq8H5oD3TPsrr0WbXbxlg8FSjOvh9wEXK6/GATPcxnu7m+RVt72PlIqRMT0LUo0KMkJ1hWzyo+5hCkYlGehSCkPei3/BiXOwiFJYexKnfHkWOvgIlh9vFIgODG1UoemEh3hm/AW9vS2sTaRnk9eUzteKlpeCLOpz3xGCK/GQTWmSMUZFw1NjafsciR5P6ZzBF6WAjoihqq65tI6G8lNdPnqLqgAacqNAa1J5TigRqNBwzKWjtnNEO6S/yj040tBmk1SWm0Xp1lGYdD37aL0mNisPr61JwPt+M5fIOJjG4+67ZULFyGXY4p2BFVhzNyXVI+vsMePcXofi0W3053EwDaOkyLNxYBc+Y9jNvXeIiZIypwuZVFbC55V/44K6tQO7Pz6NHCzVPzceSqU6UvVGEqqtqOOy7SgNaoRXeHi9jRmL+SzGoKS3AgYsitPY5YV2fhewyO3SB9Z0oxvJDdnX243PDtms51p+KRI4lTi0P5MYx5JrMVC48GM2qfAP04yLPxztgmZOHur/dQJFFDN2b+KDK/9HV9DRk6A6gIN8Kh5zvtGFHfgnsyemY7VesBhlDcgZiPi7GslIbnLLMZSvyNh6HYX4a1HjGgNnzYlC3heyw1qm0wXE0D+vfMyA9zR/xxCHNrMOB/DxYL8ttdMJWmouSy0lINw3w5cAHyfjZyIg8guJNVermlGYf7Ic2o/xyDFLiRL+yjgc/YnutQuB+W+/nldLmHyRIM6KjpWj5mJYgLSh8Rzrfug1bobFmm7QgQcjQMeOFXOmIQxQS7b59+FO1tG1xQpB8pZTfsoe6ms6jpfwPFOlWPsgn+XwqFXivSO+8ltravoQF0jbbean8xQ5+K1Da4pdXDv81vdKVg7lS6ozWsoTF26SPWu5VtOn9jq7Z2iENby1os+fcVbVZMgfUOWvlkR59w/IwsHZtnvTOj1Kl1NSODuojISd9GWAvZCvm18rb2YoWmca6cin3+8I+ZiRImW9WSq42fdYonX8rVzILm5sxM1PaXCW+B/HT5JIq38yUEkTfJ3w/VyqvC24Mo5WWcaGRnq8A+5ef3Xb9yjoedAT6hU4dRk/xNrqkRv93NVrwNkqNX4vzvtDklRp7dOGu8f6pUfK2G9SDnFgPr9njvnmI6ItNMIMDtoGhTaD+2y9J9RKdPgL6zt7/doROD32vXlAHEaqDvkcX7hrdmNZ95Z3Sw2v2uG8YhmEeQvrNYTAMwzCDG3YYmhiLmHltt9gyDMMMNdhhaCISafmFSOMP1RiGGcKww2AYhmE0wQ6DYRiG0QQ7DIZhGEYT7DAYhmEYTbDDYBiGYTTBDoNhGIbRBDsMhmEYRhPsMBiGYRhNsMNgGIZhNMEOg2EYhtFEiPxP1opzrFu3TpwxDMMwjMqaNWuUv20cBsMwDMN0Bi9JMQzDMBoA/j9GDFjDFMiErwAAAABJRU5ErkJggg==)"
      ],
      "metadata": {
        "id": "7ikj7epF8DVt"
      }
    },
    {
      "cell_type": "code",
      "source": [
        "sepatu = {\"nama\": 'Sepatu Niko', 'Harga': 150000, \"diskon\": 30000 }\n",
        "baju = {\"nama\": 'Baju Unikloh', 'Harga': 80000, \"diskon\": 8000 }\n",
        "Celana = {\"nama\": 'Celana Lepis', 'Harga': 200000, \"diskon\": 60000 }"
      ],
      "metadata": {
        "id": "Ldh5Z23k8IcM"
      },
      "execution_count": null,
      "outputs": []
    },
    {
      "cell_type": "markdown",
      "source": [
        "Tugas Praktek\n",
        "\n",
        "Setelah berhasil merepresentasikan setiap barang ke dalam tipe data dictionary dengan variabel nama, harga, dan diskon, langkahku selanjutnya adalah: mendeklarasikan list dengan nama daftar_belanja yang berisi data sepatu, baju, dan celana."
      ],
      "metadata": {
        "id": "4XzJIvdP88M0"
      }
    },
    {
      "cell_type": "code",
      "source": [
        "daftar_belanja = [sepatu, baju, Celana]"
      ],
      "metadata": {
        "id": "_lGBbU7u9FEF"
      },
      "execution_count": null,
      "outputs": []
    },
    {
      "cell_type": "markdown",
      "source": [
        "Tugas Praktek\n",
        "\n",
        "Dengan data yang aku miliki, aku bisa menghitung total harga jual dengan potongan harga beserta pajak sebesar 10% dari nilai jual.\n",
        "\n",
        "Untungnya Senja memberikan beberapa tips untuk menyelesaikan tugas ini:\n",
        "\n",
        "1. Tips 1. # Data yang dinyatakan ke dalam dictionary\n",
        "2. Tips 2. # Hitung harga masing-masing data setelah dikurangi diskon\n",
        "3. Tips 3. # Hitung harga total\n",
        "4. Tips 4. # Hitung harga kena pajak\n",
        "5. Tips 5. # Cetak total_harga + total_pajak"
      ],
      "metadata": {
        "id": "RgpIsbot9TtU"
      }
    },
    {
      "cell_type": "code",
      "source": [
        "# Data yang dinyatakan ke dalam dictionary\n",
        "sepatu = {\"nama\": \"Sepatu Niko\", \"harga\": 150000, \"diskon\": 30000}\n",
        "baju = {\"nama\": \"Baju Unikloh\", \"harga\": 80000, \"diskon\": 8000}\n",
        "celana = {\"nama\": \"Celana Lepis\", \"harga\": 200000, \"diskon\": 60000}\n",
        "\n",
        "# Hitunglah harga masing-masing data setelah dikurangi diskon\n",
        "harga_sepatu = sepatu[\"harga\"] - sepatu[\"diskon\"]\n",
        "harga_baju = baju[\"harga\"] - baju[\"diskon\"]\n",
        "harga_celana = celana[\"harga\"] - celana[\"diskon\"]\n",
        "\n",
        "# Hitung harga total\n",
        "total_harga = harga_sepatu + harga_baju + harga_celana\n",
        "\n",
        "# Hitung harga kena pajak\n",
        "total_pajak = total_harga * 0.1\n",
        "\n",
        "# Cetak total_harga + total_pajak\n",
        "print(total_harga + total_pajak)"
      ],
      "metadata": {
        "id": "AEcl2LTL96sk",
        "outputId": "a93438bf-6519-4a15-d815-84e665a0b143",
        "colab": {
          "base_uri": "https://localhost:8080/"
        }
      },
      "execution_count": null,
      "outputs": [
        {
          "output_type": "stream",
          "name": "stdout",
          "text": [
            "365200.0\n"
          ]
        }
      ]
    },
    {
      "cell_type": "markdown",
      "source": [
        "Tugas:\n",
        "\n",
        "Aku diminta Senja untuk menghitung harga yang harus dibayarkan menggunakan barang senilai 150,000, dengan diskon 30% dan pajak 10%, menggunakan cara yang aku gunakan awal dan cara lebih singkat yang diajarkan Senja."
      ],
      "metadata": {
        "id": "djSqT_Wxxg7Q"
      }
    },
    {
      "cell_type": "code",
      "source": [
        "# Kode awal\n",
        "total_harga = 150000\n",
        "potongan_harga = 0.3\n",
        "pajak = 0.1 # pajak dalam persen ~ 10%\n",
        "harga_bayar = 1 -  potongan_harga # baris pertama\n",
        "harga_bayar *= total_harga # baris kedua\n",
        "pajak_bayar = pajak * harga_bayar # baris ketiga\n",
        "harga_bayar += pajak_bayar # baris ke-4\n",
        "print(\"Kode awal - harga_bayar=\", harga_bayar)"
      ],
      "metadata": {
        "colab": {
          "base_uri": "https://localhost:8080/"
        },
        "id": "kOWH5uuzxc-B",
        "outputId": "a463a090-e1e0-4b88-cc64-cd6bbf1226cd"
      },
      "execution_count": 1,
      "outputs": [
        {
          "output_type": "stream",
          "name": "stdout",
          "text": [
            "Kode awal - harga_bayar= 115500.0\n"
          ]
        }
      ]
    },
    {
      "cell_type": "code",
      "source": [
        "# Penyederhanaan baris kode dengan menerapkan prioritas operator\n",
        "total_harga = 150000\n",
        "potongan_harga = 0.3\n",
        "pajak = 0.1 # pajak dalam persen ~ 10%\n",
        "harga_bayar = (1 - potongan_harga) * total_harga #baris pertama\n",
        "harga_bayar += harga_bayar * pajak # baris kedua\n",
        "print(\"Penyederhanaan kode - harga_bayar=\", harga_bayar)"
      ],
      "metadata": {
        "colab": {
          "base_uri": "https://localhost:8080/"
        },
        "id": "Ez9XH4ybxe4Q",
        "outputId": "0c45d8d6-d7fa-4b01-ce2d-2083775c8752"
      },
      "execution_count": 2,
      "outputs": [
        {
          "output_type": "stream",
          "name": "stdout",
          "text": [
            "Penyederhanaan kode - harga_bayar= 115500.0\n"
          ]
        }
      ]
    },
    {
      "cell_type": "markdown",
      "source": [
        "Tugas:\n",
        "\n",
        "Dengan cara yang diajarkan Senja, aku akan membuat potongan kode diatas menjadi lebih simpel. Jangan lupa ada pajak 10%."
      ],
      "metadata": {
        "id": "Rmtq902dzUnI"
      }
    },
    {
      "cell_type": "code",
      "source": [
        "sepatu = { \"nama\" : \"Sepatu Niko\", \"harga\": 150000, \"diskon\": 30000 }\n",
        "baju = { \"nama\" : \"Baju Unikloh\", \"harga\": 80000, \"diskon\": 8000 }\n",
        "celana = { \"nama\" : \"Celana Lepis\", \"harga\": 200000, \"diskon\": 60000 }\n",
        "harga_sepatu = sepatu[\"harga\"] - sepatu[\"diskon\"]\n",
        "harga_baju = baju[\"harga\"] - baju[\"diskon\"]\n",
        "harga_celana = celana[\"harga\"] - celana[\"diskon\"]\n",
        "total_harga = (harga_sepatu + harga_baju + harga_celana) * 1.1\n",
        "print(total_harga)"
      ],
      "metadata": {
        "colab": {
          "base_uri": "https://localhost:8080/"
        },
        "id": "0vAy09-jzWpo",
        "outputId": "6170229f-e294-4807-ef57-1fed89f334b1"
      },
      "execution_count": 3,
      "outputs": [
        {
          "output_type": "stream",
          "name": "stdout",
          "text": [
            "365200.00000000006\n"
          ]
        }
      ]
    },
    {
      "cell_type": "markdown",
      "source": [
        "Python Conditioning for Decision"
      ],
      "metadata": {
        "id": "I_L7WIjF0kx_"
      }
    },
    {
      "cell_type": "code",
      "source": [
        "# Statement if\n",
        "x = 4\n",
        "if x % 2 == 0 : # jika sisa bagi x dengan 2 sama dengan 0\n",
        "    print(\"x habis dibagi dua\") # statemen aksi lebih menjorok ke dalam"
      ],
      "metadata": {
        "colab": {
          "base_uri": "https://localhost:8080/"
        },
        "id": "Q1Imszo00cEo",
        "outputId": "f7496313-d434-4feb-d578-492aa6e11cc7"
      },
      "execution_count": 4,
      "outputs": [
        {
          "output_type": "stream",
          "name": "stdout",
          "text": [
            "x habis dibagi dua\n"
          ]
        }
      ]
    },
    {
      "cell_type": "code",
      "source": [
        "# Statement if ... elif ... else\n",
        "x = 7\n",
        "if x % 2 == 0: # jika sisa bagi x dengan 2 sama dengan 0\n",
        "    print(\"x habis dibagi dua\")\n",
        "elif x % 3 == 0: # jika sisa bagi x dengan 3 sama dengan 0\n",
        "    print(\"x habis dibagi tiga\")\n",
        "elif x % 5 == 0: # jika sisa bagi x dengan 5 sama dengan 0\n",
        "    print(\"x habis dibagi lima\")\n",
        "else:\n",
        "    print(\"x tidak habis dibagi dua, tiga ataupun lima\")"
      ],
      "metadata": {
        "colab": {
          "base_uri": "https://localhost:8080/"
        },
        "id": "mW39bQjW0gH_",
        "outputId": "11d6250b-e5e1-41bf-9c0c-6b5b905a7701"
      },
      "execution_count": 5,
      "outputs": [
        {
          "output_type": "stream",
          "name": "stdout",
          "text": [
            "x tidak habis dibagi dua, tiga ataupun lima\n"
          ]
        }
      ]
    },
    {
      "cell_type": "code",
      "source": [
        "jam = 13\n",
        "\n",
        "if jam >= 5 and jam < 12:  # selama jam di antara 5 s.d. 12\n",
        "    print(\"Selamat pagi!\")\n",
        "elif jam >= 12 and jam < 17:  # selama jam di antara 12 s.d. 17\n",
        "    print(\"Selamat siang!\")\n",
        "elif jam >= 17 and jam < 19:  # selama jam di antara 17 s.d. 19\n",
        "    print(\"Selamat sore!\")\n",
        "else:  # selain kondisi di atas\n",
        "    print(\"Selamat malam!\")\n"
      ],
      "metadata": {
        "colab": {
          "base_uri": "https://localhost:8080/"
        },
        "id": "7Skn83Kl085_",
        "outputId": "c8cb16c5-552e-4670-b3e5-f62290592da1"
      },
      "execution_count": 6,
      "outputs": [
        {
          "output_type": "stream",
          "name": "stdout",
          "text": [
            "Selamat siang!\n"
          ]
        }
      ]
    },
    {
      "cell_type": "markdown",
      "source": [
        "Tugas:\n",
        "\n",
        "“Aksara, kantor kita akan merilis penawaran baru terkait jasa pembuatan data warehouse. Bisa tolong kembangkan kalkulatormu untuk menghitung tagihan pembayaran? Soalnya selama ini kita masih manual,” jelas Senja sembari memberikan contoh nota tagihan kantor.\n",
        "\n",
        "Aku belum mengiyakan karena sedikit ragu. Mengingat sebelumnya aku sempat salah. Tapi dalam hati aku berkata, pasti bisa! Kali ini aku harus mampu membuat kalkulator lebih rumit.\n",
        "\n",
        "Solusi yang terlintas dalam bayanganku: Kalkulator ini harus dapat menghitung subtotal setiap jasa yang diambil dari kolom harga/ hari dan total hari dari setiap jasa. Ternyata Senja juga memikirkan hal yang sama dengan instruksinya yang sangat membantu.\n",
        "\n",
        "\n",
        "\n",
        "Tagihan untuk Mr. Yoyo\n",
        "\n",
        "![image.png](data:image/png;base64,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)"
      ],
      "metadata": {
        "id": "E4ZR1vgm2FD_"
      }
    },
    {
      "cell_type": "code",
      "source": [
        "tagihan_ke = 'Mr. Yoyo'\n",
        "warehousing = { 'harga_harian': 1000000, 'total_hari':15 }\n",
        "cleansing = { 'harga_harian': 1500000, 'total_hari':10 }\n",
        "integration = { 'harga_harian':2000000, 'total_hari':15 }\n",
        "transform = { 'harga_harian':2500000, 'total_hari':10 }\n",
        "sub_warehousing = warehousing['harga_harian'] * warehousing['total_hari']\n",
        "sub_cleansing = cleansing['harga_harian'] * cleansing['total_hari']\n",
        "sub_integration = integration['harga_harian'] * integration['total_hari']\n",
        "sub_transform = transform['harga_harian'] * transform['total_hari']\n",
        "total_harga = sub_warehousing + sub_cleansing + sub_integration + sub_transform\n",
        "print(\"Tagihan kepada:\")\n",
        "print(tagihan_ke)\n",
        "print(\"Selamat pagi, anda harus membayar tagihan sebesar:\")\n",
        "print(total_harga)"
      ],
      "metadata": {
        "colab": {
          "base_uri": "https://localhost:8080/"
        },
        "id": "96SWNZhQ2MU3",
        "outputId": "bd65a210-9e61-441a-ecef-410c8e147b83"
      },
      "execution_count": 7,
      "outputs": [
        {
          "output_type": "stream",
          "name": "stdout",
          "text": [
            "Tagihan kepada:\n",
            "Mr. Yoyo\n",
            "Selamat pagi, anda harus membayar tagihan sebesar:\n",
            "85000000\n"
          ]
        }
      ]
    },
    {
      "cell_type": "markdown",
      "source": [
        "Tugas:\n",
        "\n",
        "Tolong masukkan variabel keterangan waktu tersebut di kodemu. Lalu, diatur dengan detail berikut:\n",
        "\n",
        "Diatas jam 07 malam adalah salam 'selamat malam'\n",
        "Diatas jam 05 sore adalah salam 'selamat sore'\n",
        "Diatas jam 12 siang, adalah 'selamat siang'\n",
        "dan selain itu 'selamat pagi'\n",
        "“Oh, oke. Paham,” sahutku sembari merevisi. Saran yang bagus, kedepannya aku harus berpikir kritis."
      ],
      "metadata": {
        "id": "Nn-qpAkv2X_P"
      }
    },
    {
      "cell_type": "code",
      "source": [
        "jam = 17\n",
        "tagihan_ke = 'Mr. Yoyo'\n",
        "warehousing = { 'harga_harian': 1000000, 'total_hari':15 }\n",
        "cleansing = { 'harga_harian': 1500000, 'total_hari':10 }\n",
        "integration = { 'harga_harian':2000000, 'total_hari':15 }\n",
        "transform = { 'harga_harian':2500000, 'total_hari':10 }\n",
        "sub_warehousing = warehousing['harga_harian']*warehousing['total_hari']\n",
        "sub_cleansing = cleansing['harga_harian']*cleansing['total_hari']\n",
        "sub_integration = integration['harga_harian']*integration['total_hari']\n",
        "sub_transform = transform['harga_harian']*transform['total_hari']\n",
        "total_harga = sub_warehousing+sub_cleansing+sub_integration+sub_transform\n",
        "print(\"Tagihan kepada:\")\n",
        "print(tagihan_ke)\n",
        "if jam > 19:\n",
        "    print(\"Selamat malam, anda harus membayar tagihan sebesar:\")\n",
        "elif jam > 17:\n",
        "    print(\"Selamat sore, anda harus membayar tagihan sebesar:\")\n",
        "elif jam > 12:\n",
        "    print(\"Selamat siang, anda harus membayar tagihan sebesar:\")\n",
        "else:\n",
        "    print(\"Selamat pagi, anda harus membayar tagihan sebesar:\")\n",
        "print(total_harga)"
      ],
      "metadata": {
        "colab": {
          "base_uri": "https://localhost:8080/"
        },
        "id": "_JFFpzWY2ZXY",
        "outputId": "4c2c9778-fac3-4a1b-f8d9-62a21342f44e"
      },
      "execution_count": 8,
      "outputs": [
        {
          "output_type": "stream",
          "name": "stdout",
          "text": [
            "Tagihan kepada:\n",
            "Mr. Yoyo\n",
            "Selamat siang, anda harus membayar tagihan sebesar:\n",
            "85000000\n"
          ]
        }
      ]
    },
    {
      "cell_type": "markdown",
      "source": [
        "Python while loops"
      ],
      "metadata": {
        "id": "9HWzYSnX3wY_"
      }
    },
    {
      "cell_type": "code",
      "source": [
        "# Tagihan\n",
        "tagihan = [50000, 75000, 125000, 300000, 200000]\n",
        "# Tanpa menggunakan while loop\n",
        "total_tagihan = tagihan[0] + tagihan[1] + tagihan[2] + tagihan[3] + tagihan[4]\n",
        "print(total_tagihan)\n",
        "\n",
        "# Dengan menggunakan while loop\n",
        "i = 0 # sebuah variabel untuk mengakses setiap elemen tagihan satu per satu\n",
        "jumlah_tagihan = len(tagihan) # panjang (jumlah elemen dalam) list tagihan\n",
        "total_tagihan = 0 # mula-mula, set total_tagihan ke 0\n",
        "while i < jumlah_tagihan: # selama nilai i kurang dari jumlah_tagihan\n",
        "    total_tagihan += tagihan[i] # tambahkan tagihan[i] ke total_tagihan\n",
        "    i += 1 # tambahkan nilai i dengan 1 untuk memproses tagihan selanjutnya.\n",
        "print(total_tagihan)"
      ],
      "metadata": {
        "colab": {
          "base_uri": "https://localhost:8080/"
        },
        "id": "uKh6gpPU3uYo",
        "outputId": "b3ef6f02-7a72-40c2-f749-acde1a00b308"
      },
      "execution_count": 10,
      "outputs": [
        {
          "output_type": "stream",
          "name": "stdout",
          "text": [
            "750000\n",
            "750000\n"
          ]
        }
      ]
    },
    {
      "cell_type": "code",
      "source": [
        "tagihan = [50000, 75000, -150000, 125000, 300000, -50000, 200000]\n",
        "i = 0\n",
        "jumlah_tagihan = len(tagihan)\n",
        "total_tagihan = 0\n",
        "\n",
        "while i < jumlah_tagihan:\n",
        "    # jika terdapat tagihan ke-i yang bernilai minus (di bawah nol),\n",
        "    # pengulangan akan dihentikan\n",
        "    if tagihan[i] < 0:\n",
        "        total_tagihan = -1\n",
        "        print(\"terdapat angka minus dalam tagihan, perhitungan dihentikan!\")\n",
        "        break\n",
        "    total_tagihan += tagihan[i]\n",
        "    i += 1\n",
        "\n",
        "print(total_tagihan)\n"
      ],
      "metadata": {
        "colab": {
          "base_uri": "https://localhost:8080/"
        },
        "id": "mCH3r25u40h_",
        "outputId": "4d2d8af8-8516-441b-e3e1-611750edf630"
      },
      "execution_count": 11,
      "outputs": [
        {
          "output_type": "stream",
          "name": "stdout",
          "text": [
            "terdapat angka minus dalam tagihan, perhitungan dihentikan!\n",
            "-1\n"
          ]
        }
      ]
    },
    {
      "cell_type": "code",
      "source": [
        "list_tagihan = [50000, 75000, -150000, 125000, 300000, -50000, 200000]\n",
        "\n",
        "# For loops with break\n",
        "print(\"For loops with break\")\n",
        "total_tagihan_break = 0\n",
        "for tagihan in list_tagihan:\n",
        "    if tagihan < 0:\n",
        "        print(\"Terdapat angka minus dalam tagihan, perhitungan dihentikan!\")\n",
        "        break\n",
        "    total_tagihan_break += tagihan\n",
        "print(\"Total tagihan %d.\" % total_tagihan_break)\n",
        "print()\n",
        "\n",
        "# For loops with continue\n",
        "print(\"For loops with continue\")\n",
        "total_tagihan_continue = 0\n",
        "for tagihan in list_tagihan:\n",
        "    if tagihan < 0:\n",
        "        print(\"Terdapat angka minus dalam tagihan, tagihan %d dilewati!\" % tagihan)\n",
        "        continue\n",
        "    total_tagihan_continue += tagihan\n",
        "print(\"Total tagihan %d.\" % total_tagihan_continue)\n"
      ],
      "metadata": {
        "colab": {
          "base_uri": "https://localhost:8080/"
        },
        "id": "iF8cHsJa6aqf",
        "outputId": "01839c58-0594-45b4-83bf-a2d0ac71078e"
      },
      "execution_count": 12,
      "outputs": [
        {
          "output_type": "stream",
          "name": "stdout",
          "text": [
            "For loops with break\n",
            "Terdapat angka minus dalam tagihan, perhitungan dihentikan!\n",
            "Total tagihan 125000.\n",
            "\n",
            "For loops with continue\n",
            "Terdapat angka minus dalam tagihan, tagihan -150000 dilewati!\n",
            "Terdapat angka minus dalam tagihan, tagihan -50000 dilewati!\n",
            "Total tagihan 750000.\n"
          ]
        }
      ]
    },
    {
      "cell_type": "code",
      "source": [
        "list_daerah = ['Malang', 'Palembang', 'Medan']\n",
        "list_buah = ['Apel', 'Duku', 'Jeruk']\n",
        "\n",
        "for nama_daerah in list_daerah:\n",
        "    for nama_buah in list_buah:\n",
        "        print(nama_buah + \" \" + nama_daerah)\n"
      ],
      "metadata": {
        "colab": {
          "base_uri": "https://localhost:8080/"
        },
        "id": "zVkbCkBD6jEY",
        "outputId": "9b3d4954-bd27-42c6-d66a-37ef9f04d365"
      },
      "execution_count": 13,
      "outputs": [
        {
          "output_type": "stream",
          "name": "stdout",
          "text": [
            "Apel Malang\n",
            "Duku Malang\n",
            "Jeruk Malang\n",
            "Apel Palembang\n",
            "Duku Palembang\n",
            "Jeruk Palembang\n",
            "Apel Medan\n",
            "Duku Medan\n",
            "Jeruk Medan\n"
          ]
        }
      ]
    },
    {
      "cell_type": "markdown",
      "source": [
        "Tugas:\n",
        "\n",
        "Program yang akan aku bangun akan mengolah sebuah list yang bernama list_cash_flow. Setiap elemen dari list_cash_flow berisikan pengeluaran (bilangan negatif) dan pemasukan (bilangan positif) pada perusahaan\n",
        "\n",
        "Dari list_cash_flow ini, aku akan menghitung total_pengeluaran dan total_pemasukan perusahaan."
      ],
      "metadata": {
        "id": "k2uhYjG26qoh"
      }
    },
    {
      "cell_type": "code",
      "source": [
        "list_cash_flow = [2500000, 5000000, -1000000, -2500000, 5000000, 10000000, -5000000, 7500000, 10000000, -1500000, 25000000, -2500000]\n",
        "\n",
        "total_pengeluaran, total_pemasukan = 0, 0\n",
        "\n",
        "for dana in list_cash_flow:\n",
        "    if dana > 0:\n",
        "        total_pemasukan += dana\n",
        "    else:\n",
        "        total_pengeluaran += dana\n",
        "\n",
        "total_pengeluaran *= -1\n",
        "\n",
        "print(total_pengeluaran)\n",
        "print(total_pemasukan)\n"
      ],
      "metadata": {
        "colab": {
          "base_uri": "https://localhost:8080/"
        },
        "id": "nx79V1sY6sLo",
        "outputId": "5027afb0-db5e-463e-b636-f551da76ccbf"
      },
      "execution_count": 14,
      "outputs": [
        {
          "output_type": "stream",
          "name": "stdout",
          "text": [
            "12500000\n",
            "65000000\n"
          ]
        }
      ]
    },
    {
      "cell_type": "markdown",
      "source": [
        "Ekspedisi Pamanku\n",
        "\n",
        "Aku menyambar ponsel di meja dan membuka pesan singkat dari paman tempo hari yang menjelaskan jika paman harus mengeluarkan uang sebesar 1,5 juta per mobil dalam sehari. Tapi, beliau selalu kebingungan dengan total pengeluaran per bulan karena adanya aturan ganjil-genap yang membuat pengoperasian mobil yang berbeda.\n",
        "\n",
        "“Kalau begitu, aku akan masukkan variabel jumlah_hari berisi jumlah hari dalam sebulan dan variabel list_plat_nomor berisi seluruh nomor plat mobil milik paman,” gumamku sendiri. Kalau seperti ini paman hanya perlu mengganti variabel jumlah_hari atau modifikasi variabel list_plat_nomor untuk melacak total pengeluaran paman selama sebulan. Ide Cemerlang!\n",
        "\n",
        ""
      ],
      "metadata": {
        "id": "K3GDoWMa7MOv"
      }
    },
    {
      "cell_type": "code",
      "source": [
        "# Data\n",
        "uang_jalan = 1500000\n",
        "jumlah_hari = 31\n",
        "list_plat_nomor = [8993, 2198, 2501, 2735, 3772, 4837, 9152]\n",
        "\n",
        "# Pengecekan kendaraan dengan nomor pelat ganjil atau genap\n",
        "kendaraan_genap = 0\n",
        "kendaraan_ganjil = 0\n",
        "\n",
        "for plat_nomor in list_plat_nomor:\n",
        "    if plat_nomor % 2 == 0:\n",
        "        kendaraan_genap += 1\n",
        "    else:\n",
        "        kendaraan_ganjil += 1\n",
        "\n",
        "# Total pengeluaran untuk kendaraan dengan nomor pelat ganjil dan genap dalam 1 bulan\n",
        "i = 1\n",
        "total_pengeluaran = 0\n",
        "\n",
        "while i <= jumlah_hari:\n",
        "    if i % 2 == 0:\n",
        "        total_pengeluaran += (kendaraan_genap * uang_jalan)\n",
        "    else:\n",
        "        total_pengeluaran += (kendaraan_ganjil * uang_jalan)\n",
        "    i += 1\n",
        "\n",
        "# Cetak total pengeluaran\n",
        "print(total_pengeluaran)\n"
      ],
      "metadata": {
        "colab": {
          "base_uri": "https://localhost:8080/"
        },
        "id": "mq2Xm4qK7NOf",
        "outputId": "2949d6cf-4103-4eac-daee-b9444b7c2428"
      },
      "execution_count": 15,
      "outputs": [
        {
          "output_type": "stream",
          "name": "stdout",
          "text": [
            "163500000\n"
          ]
        }
      ]
    }
  ]
}